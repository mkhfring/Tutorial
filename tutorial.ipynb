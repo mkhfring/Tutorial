{
  "nbformat": 4,
  "nbformat_minor": 0,
  "metadata": {
    "colab": {
      "provenance": [],
      "collapsed_sections": [
        "MwxG6SirMHsR"
      ],
      "authorship_tag": "ABX9TyPwpbzyhS3MmebnB2taHYKT",
      "include_colab_link": true
    },
    "kernelspec": {
      "name": "python3",
      "display_name": "Python 3"
    },
    "language_info": {
      "name": "python"
    }
  },
  "cells": [
    {
      "cell_type": "markdown",
      "metadata": {
        "id": "view-in-github",
        "colab_type": "text"
      },
      "source": [
        "<a href=\"https://colab.research.google.com/github/mkhfring/Tutorial/blob/main/tutorial.ipynb\" target=\"_parent\"><img src=\"https://colab.research.google.com/assets/colab-badge.svg\" alt=\"Open In Colab\"/></a>"
      ]
    },
    {
      "cell_type": "markdown",
      "source": [
        "# Background\n",
        "\n",
        "# Transformer architecture\n",
        "\n",
        "# Mini Grad (Forward and Backward computations)\n",
        "\n",
        "# Bigram Model\n",
        "\n",
        "# Transformer implementation in Details\n"
      ],
      "metadata": {
        "id": "MwxG6SirMHsR"
      }
    },
    {
      "cell_type": "code",
      "execution_count": null,
      "metadata": {
        "id": "nxS3U--ML5uD"
      },
      "outputs": [],
      "source": []
    },
    {
      "cell_type": "markdown",
      "source": [],
      "metadata": {
        "id": "kvWW6SDeMGkZ"
      }
    }
  ]
}